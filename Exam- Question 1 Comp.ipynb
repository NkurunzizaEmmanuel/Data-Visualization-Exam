{
 "cells": [
  {
   "cell_type": "code",
   "execution_count": 1,
   "id": "4a13175c",
   "metadata": {},
   "outputs": [],
   "source": [
    "import pandas as pd\n",
    "import matplotlib.pyplot as plt\n",
    "import seaborn as sns\n",
    "import numpy as np"
   ]
  },
  {
   "cell_type": "markdown",
   "id": "5fc24212",
   "metadata": {},
   "source": [
    "#### Note\n",
    "I failed to get the data set for the approved budget 25/26 ,I managed to get the draft and it is what I used for to answer this question.I downloaded it from the Ministry of Finance Data portal."
   ]
  },
  {
   "cell_type": "markdown",
   "id": "d7776588",
   "metadata": {},
   "source": [
    "#### The Story path that I chose is  Sector allocation analysis:"
   ]
  },
  {
   "cell_type": "code",
   "execution_count": null,
   "id": "6ce0098f",
   "metadata": {},
   "outputs": [
    {
     "data": {
      "application/vnd.microsoft.datawrangler.viewer.v0+json": {
       "columns": [
        {
         "name": "index",
         "rawType": "int64",
         "type": "integer"
        },
        {
         "name": "Vote_Code",
         "rawType": "int64",
         "type": "integer"
        },
        {
         "name": "Vote_Name",
         "rawType": "object",
         "type": "string"
        },
        {
         "name": "Programme_Code",
         "rawType": "int64",
         "type": "integer"
        },
        {
         "name": "Programme_Name",
         "rawType": "object",
         "type": "string"
        },
        {
         "name": "SubProgramme_Code",
         "rawType": "int64",
         "type": "integer"
        },
        {
         "name": "SubProgramme_Name",
         "rawType": "object",
         "type": "string"
        },
        {
         "name": "Sub_SubProgramme_Code",
         "rawType": "int64",
         "type": "integer"
        },
        {
         "name": "Sub_SubProgramme_Name",
         "rawType": "object",
         "type": "string"
        },
        {
         "name": "Department_Code",
         "rawType": "float64",
         "type": "float"
        },
        {
         "name": "Department_Name",
         "rawType": "object",
         "type": "string"
        },
        {
         "name": "Project_Code",
         "rawType": "float64",
         "type": "float"
        },
        {
         "name": "Project_Name",
         "rawType": "object",
         "type": "unknown"
        },
        {
         "name": "Budget_Output_Code",
         "rawType": "int64",
         "type": "integer"
        },
        {
         "name": "Budget_Output_Description",
         "rawType": "object",
         "type": "string"
        },
        {
         "name": "Item_Code",
         "rawType": "int64",
         "type": "integer"
        },
        {
         "name": "Description",
         "rawType": "object",
         "type": "string"
        },
        {
         "name": " Wage ",
         "rawType": "object",
         "type": "string"
        },
        {
         "name": " NonWage ",
         "rawType": "object",
         "type": "string"
        },
        {
         "name": " AIARec ",
         "rawType": "object",
         "type": "string"
        },
        {
         "name": " GoUDev ",
         "rawType": "object",
         "type": "string"
        },
        {
         "name": " ExtFin ",
         "rawType": "object",
         "type": "string"
        },
        {
         "name": " AIADev ",
         "rawType": "object",
         "type": "string"
        },
        {
         "name": " WageArrears ",
         "rawType": "object",
         "type": "string"
        },
        {
         "name": " NWagaArrears ",
         "rawType": "object",
         "type": "string"
        },
        {
         "name": " GoUDEVArrears ",
         "rawType": "object",
         "type": "string"
        },
        {
         "name": "Fiscal_Year",
         "rawType": "object",
         "type": "string"
        }
       ],
       "ref": "22993af9-00a6-4002-960e-2d104185aad0",
       "rows": [
        [
         "0",
         "1",
         "Office of the President",
         "16",
         "Governance And Security  ",
         "0",
         "Unspecified",
         "3",
         "Government Mobilisation,Monitoring and people centred security",
         "1.0",
         "Mobilisation and Security Services",
         null,
         null,
         "14",
         "Administrative and Support Services",
         "262101",
         "Contributions to International Organisations-Current",
         " -   ",
         " 5,050,000,000 ",
         " -   ",
         " -   ",
         " -   ",
         " -   ",
         " -   ",
         " -   ",
         " -   ",
         "2025-2026"
        ],
        [
         "1",
         "1",
         "Office of the President",
         "16",
         "Governance And Security  ",
         "0",
         "Unspecified",
         "4",
         "Security Administration",
         "1.0",
         "Security Coordination",
         null,
         null,
         "460002",
         "Enhanced Intelligence coverage ",
         "221003",
         "Staff Training",
         " -   ",
         " 25,000,000 ",
         " -   ",
         " -   ",
         " -   ",
         " -   ",
         " -   ",
         " -   ",
         " -   ",
         "2025-2026"
        ],
        [
         "2",
         "1",
         "Office of the President",
         "16",
         "Governance And Security  ",
         "0",
         "Unspecified",
         "4",
         "Security Administration",
         "1.0",
         "Security Coordination",
         null,
         null,
         "460002",
         "Enhanced Intelligence coverage ",
         "221009",
         "Welfare and Entertainment",
         " -   ",
         " 1,248,000,000 ",
         " -   ",
         " -   ",
         " -   ",
         " -   ",
         " -   ",
         " -   ",
         " -   ",
         "2025-2026"
        ],
        [
         "3",
         "1",
         "Office of the President",
         "16",
         "Governance And Security  ",
         "0",
         "Unspecified",
         "4",
         "Security Administration",
         "1.0",
         "Security Coordination",
         null,
         null,
         "460145",
         "Institutional Governance and Leadership",
         "221008",
         "Information and Communication Technology Supplies.  ",
         " -   ",
         " 10,000,000 ",
         " -   ",
         " -   ",
         " -   ",
         " -   ",
         " -   ",
         " -   ",
         " -   ",
         "2025-2026"
        ],
        [
         "4",
         "1",
         "Office of the President",
         "16",
         "Governance And Security  ",
         "0",
         "Unspecified",
         "5",
         "Effective Security Management",
         "1.0",
         "Integrated Intelligence Management ",
         null,
         null,
         "460145",
         "Institutional Governance and Leadership",
         "212102",
         "Medical expenses (Employees)",
         " -   ",
         " 40,000,000 ",
         " -   ",
         " -   ",
         " -   ",
         " -   ",
         " -   ",
         " -   ",
         " -   ",
         "2025-2026"
        ]
       ],
       "shape": {
        "columns": 26,
        "rows": 5
       }
      },
      "text/html": [
       "<div>\n",
       "<style scoped>\n",
       "    .dataframe tbody tr th:only-of-type {\n",
       "        vertical-align: middle;\n",
       "    }\n",
       "\n",
       "    .dataframe tbody tr th {\n",
       "        vertical-align: top;\n",
       "    }\n",
       "\n",
       "    .dataframe thead th {\n",
       "        text-align: right;\n",
       "    }\n",
       "</style>\n",
       "<table border=\"1\" class=\"dataframe\">\n",
       "  <thead>\n",
       "    <tr style=\"text-align: right;\">\n",
       "      <th></th>\n",
       "      <th>Vote_Code</th>\n",
       "      <th>Vote_Name</th>\n",
       "      <th>Programme_Code</th>\n",
       "      <th>Programme_Name</th>\n",
       "      <th>SubProgramme_Code</th>\n",
       "      <th>SubProgramme_Name</th>\n",
       "      <th>Sub_SubProgramme_Code</th>\n",
       "      <th>Sub_SubProgramme_Name</th>\n",
       "      <th>Department_Code</th>\n",
       "      <th>Department_Name</th>\n",
       "      <th>...</th>\n",
       "      <th>Wage</th>\n",
       "      <th>NonWage</th>\n",
       "      <th>AIARec</th>\n",
       "      <th>GoUDev</th>\n",
       "      <th>ExtFin</th>\n",
       "      <th>AIADev</th>\n",
       "      <th>WageArrears</th>\n",
       "      <th>NWagaArrears</th>\n",
       "      <th>GoUDEVArrears</th>\n",
       "      <th>Fiscal_Year</th>\n",
       "    </tr>\n",
       "  </thead>\n",
       "  <tbody>\n",
       "    <tr>\n",
       "      <th>0</th>\n",
       "      <td>1</td>\n",
       "      <td>Office of the President</td>\n",
       "      <td>16</td>\n",
       "      <td>Governance And Security</td>\n",
       "      <td>0</td>\n",
       "      <td>Unspecified</td>\n",
       "      <td>3</td>\n",
       "      <td>Government Mobilisation,Monitoring and people ...</td>\n",
       "      <td>1.0</td>\n",
       "      <td>Mobilisation and Security Services</td>\n",
       "      <td>...</td>\n",
       "      <td>-</td>\n",
       "      <td>5,050,000,000</td>\n",
       "      <td>-</td>\n",
       "      <td>-</td>\n",
       "      <td>-</td>\n",
       "      <td>-</td>\n",
       "      <td>-</td>\n",
       "      <td>-</td>\n",
       "      <td>-</td>\n",
       "      <td>2025-2026</td>\n",
       "    </tr>\n",
       "    <tr>\n",
       "      <th>1</th>\n",
       "      <td>1</td>\n",
       "      <td>Office of the President</td>\n",
       "      <td>16</td>\n",
       "      <td>Governance And Security</td>\n",
       "      <td>0</td>\n",
       "      <td>Unspecified</td>\n",
       "      <td>4</td>\n",
       "      <td>Security Administration</td>\n",
       "      <td>1.0</td>\n",
       "      <td>Security Coordination</td>\n",
       "      <td>...</td>\n",
       "      <td>-</td>\n",
       "      <td>25,000,000</td>\n",
       "      <td>-</td>\n",
       "      <td>-</td>\n",
       "      <td>-</td>\n",
       "      <td>-</td>\n",
       "      <td>-</td>\n",
       "      <td>-</td>\n",
       "      <td>-</td>\n",
       "      <td>2025-2026</td>\n",
       "    </tr>\n",
       "    <tr>\n",
       "      <th>2</th>\n",
       "      <td>1</td>\n",
       "      <td>Office of the President</td>\n",
       "      <td>16</td>\n",
       "      <td>Governance And Security</td>\n",
       "      <td>0</td>\n",
       "      <td>Unspecified</td>\n",
       "      <td>4</td>\n",
       "      <td>Security Administration</td>\n",
       "      <td>1.0</td>\n",
       "      <td>Security Coordination</td>\n",
       "      <td>...</td>\n",
       "      <td>-</td>\n",
       "      <td>1,248,000,000</td>\n",
       "      <td>-</td>\n",
       "      <td>-</td>\n",
       "      <td>-</td>\n",
       "      <td>-</td>\n",
       "      <td>-</td>\n",
       "      <td>-</td>\n",
       "      <td>-</td>\n",
       "      <td>2025-2026</td>\n",
       "    </tr>\n",
       "    <tr>\n",
       "      <th>3</th>\n",
       "      <td>1</td>\n",
       "      <td>Office of the President</td>\n",
       "      <td>16</td>\n",
       "      <td>Governance And Security</td>\n",
       "      <td>0</td>\n",
       "      <td>Unspecified</td>\n",
       "      <td>4</td>\n",
       "      <td>Security Administration</td>\n",
       "      <td>1.0</td>\n",
       "      <td>Security Coordination</td>\n",
       "      <td>...</td>\n",
       "      <td>-</td>\n",
       "      <td>10,000,000</td>\n",
       "      <td>-</td>\n",
       "      <td>-</td>\n",
       "      <td>-</td>\n",
       "      <td>-</td>\n",
       "      <td>-</td>\n",
       "      <td>-</td>\n",
       "      <td>-</td>\n",
       "      <td>2025-2026</td>\n",
       "    </tr>\n",
       "    <tr>\n",
       "      <th>4</th>\n",
       "      <td>1</td>\n",
       "      <td>Office of the President</td>\n",
       "      <td>16</td>\n",
       "      <td>Governance And Security</td>\n",
       "      <td>0</td>\n",
       "      <td>Unspecified</td>\n",
       "      <td>5</td>\n",
       "      <td>Effective Security Management</td>\n",
       "      <td>1.0</td>\n",
       "      <td>Integrated Intelligence Management</td>\n",
       "      <td>...</td>\n",
       "      <td>-</td>\n",
       "      <td>40,000,000</td>\n",
       "      <td>-</td>\n",
       "      <td>-</td>\n",
       "      <td>-</td>\n",
       "      <td>-</td>\n",
       "      <td>-</td>\n",
       "      <td>-</td>\n",
       "      <td>-</td>\n",
       "      <td>2025-2026</td>\n",
       "    </tr>\n",
       "  </tbody>\n",
       "</table>\n",
       "<p>5 rows × 26 columns</p>\n",
       "</div>"
      ],
      "text/plain": [
       "   Vote_Code                Vote_Name  Programme_Code  \\\n",
       "0          1  Office of the President              16   \n",
       "1          1  Office of the President              16   \n",
       "2          1  Office of the President              16   \n",
       "3          1  Office of the President              16   \n",
       "4          1  Office of the President              16   \n",
       "\n",
       "              Programme_Name  SubProgramme_Code SubProgramme_Name  \\\n",
       "0  Governance And Security                    0       Unspecified   \n",
       "1  Governance And Security                    0       Unspecified   \n",
       "2  Governance And Security                    0       Unspecified   \n",
       "3  Governance And Security                    0       Unspecified   \n",
       "4  Governance And Security                    0       Unspecified   \n",
       "\n",
       "   Sub_SubProgramme_Code                              Sub_SubProgramme_Name  \\\n",
       "0                      3  Government Mobilisation,Monitoring and people ...   \n",
       "1                      4                            Security Administration   \n",
       "2                      4                            Security Administration   \n",
       "3                      4                            Security Administration   \n",
       "4                      5                      Effective Security Management   \n",
       "\n",
       "   Department_Code                      Department_Name  ...   Wage   \\\n",
       "0              1.0   Mobilisation and Security Services  ...    -      \n",
       "1              1.0                Security Coordination  ...    -      \n",
       "2              1.0                Security Coordination  ...    -      \n",
       "3              1.0                Security Coordination  ...    -      \n",
       "4              1.0  Integrated Intelligence Management   ...    -      \n",
       "\n",
       "          NonWage    AIARec   GoUDev    ExtFin   AIADev   WageArrears   \\\n",
       "0   5,050,000,000       -        -         -        -             -      \n",
       "1      25,000,000       -        -         -        -             -      \n",
       "2   1,248,000,000       -        -         -        -             -      \n",
       "3      10,000,000       -        -         -        -             -      \n",
       "4      40,000,000       -        -         -        -             -      \n",
       "\n",
       "   NWagaArrears   GoUDEVArrears  Fiscal_Year  \n",
       "0           -               -      2025-2026  \n",
       "1           -               -      2025-2026  \n",
       "2           -               -      2025-2026  \n",
       "3           -               -      2025-2026  \n",
       "4           -               -      2025-2026  \n",
       "\n",
       "[5 rows x 26 columns]"
      ]
     },
     "execution_count": 3,
     "metadata": {},
     "output_type": "execute_result"
    }
   ],
   "source": [
    "#Loading the dataset\n",
    "df= pd.read_csv(\"data.csv\" , encoding='latin1')\n",
    "df.head()"
   ]
  },
  {
   "cell_type": "code",
   "execution_count": null,
   "id": "2cd816ea",
   "metadata": {},
   "outputs": [
    {
     "name": "stdout",
     "output_type": "stream",
     "text": [
      "<class 'pandas.core.frame.DataFrame'>\n",
      "RangeIndex: 20673 entries, 0 to 20672\n",
      "Data columns (total 26 columns):\n",
      " #   Column                     Non-Null Count  Dtype  \n",
      "---  ------                     --------------  -----  \n",
      " 0   Vote_Code                  20673 non-null  int64  \n",
      " 1   Vote_Name                  20673 non-null  object \n",
      " 2   Programme_Code             20673 non-null  int64  \n",
      " 3   Programme_Name             20673 non-null  object \n",
      " 4   SubProgramme_Code          20673 non-null  int64  \n",
      " 5   SubProgramme_Name          20673 non-null  object \n",
      " 6   Sub_SubProgramme_Code      20673 non-null  int64  \n",
      " 7   Sub_SubProgramme_Name      20673 non-null  object \n",
      " 8   Department_Code            18373 non-null  float64\n",
      " 9   Department_Name            18373 non-null  object \n",
      " 10  Project_Code               2300 non-null   float64\n",
      " 11  Project_Name               2300 non-null   object \n",
      " 12  Budget_Output_Code         20673 non-null  int64  \n",
      " 13  Budget_Output_Description  20673 non-null  object \n",
      " 14  Item_Code                  20673 non-null  int64  \n",
      " 15  Description                20673 non-null  object \n",
      " 16   Wage                      20673 non-null  object \n",
      " 17   NonWage                   20673 non-null  object \n",
      " 18   AIARec                    20673 non-null  object \n",
      " 19   GoUDev                    20673 non-null  object \n",
      " 20   ExtFin                    20673 non-null  object \n",
      " 21   AIADev                    20673 non-null  object \n",
      " 22   WageArrears               20673 non-null  object \n",
      " 23   NWagaArrears              20673 non-null  object \n",
      " 24   GoUDEVArrears             20673 non-null  object \n",
      " 25  Fiscal_Year                20673 non-null  object \n",
      "dtypes: float64(2), int64(6), object(18)\n",
      "memory usage: 4.1+ MB\n"
     ]
    }
   ],
   "source": [
    "#Understanding the data\n",
    "df.info()"
   ]
  },
  {
   "cell_type": "code",
   "execution_count": null,
   "id": "ffc04096",
   "metadata": {},
   "outputs": [],
   "source": [
    "# Drop unnecessary columns\n",
    "df.drop(columns=[\"Project_Code\",\"Project_Name\",\"Fiscal_Year\"], inplace=True)"
   ]
  },
  {
   "cell_type": "code",
   "execution_count": null,
   "id": "c45cbcc8",
   "metadata": {},
   "outputs": [
    {
     "name": "stdout",
     "output_type": "stream",
     "text": [
      "               Wage       NonWage        AIARec        GoUDev        ExtFin  \\\n",
      "count  2.067300e+04  2.067300e+04  2.067300e+04  2.067300e+04  2.067300e+04   \n",
      "mean   3.838226e+08  1.546669e+09  1.421651e+07  2.044046e+08  6.194361e+08   \n",
      "std    1.453612e+10  7.495889e+10  2.044066e+09  1.131007e+10  1.980434e+10   \n",
      "min    0.000000e+00  0.000000e+00  0.000000e+00  0.000000e+00  0.000000e+00   \n",
      "25%    0.000000e+00  3.000000e+06  0.000000e+00  0.000000e+00  0.000000e+00   \n",
      "50%    0.000000e+00  2.000000e+07  0.000000e+00  0.000000e+00  0.000000e+00   \n",
      "75%    0.000000e+00  1.000000e+08  0.000000e+00  0.000000e+00  0.000000e+00   \n",
      "max    1.265010e+12  7.479435e+12  2.938980e+11  1.554391e+12  2.281110e+12   \n",
      "\n",
      "        AIADev  WageArrears  NWagaArrears  GoUDEVArrears  \n",
      "count  20673.0      20673.0       20673.0        20673.0  \n",
      "mean       0.0          0.0           0.0            0.0  \n",
      "std        0.0          0.0           0.0            0.0  \n",
      "min        0.0          0.0           0.0            0.0  \n",
      "25%        0.0          0.0           0.0            0.0  \n",
      "50%        0.0          0.0           0.0            0.0  \n",
      "75%        0.0          0.0           0.0            0.0  \n",
      "max        0.0          0.0           0.0            0.0  \n"
     ]
    }
   ],
   "source": [
    "# Strip column names\n",
    "df.columns = df.columns.str.strip()\n",
    "\n",
    "# Budget-related columns\n",
    "budget_fields = [\n",
    "    'Wage', 'NonWage', 'AIARec', 'GoUDev', 'ExtFin',\n",
    "    'AIADev', 'WageArrears', 'NWagaArrears', 'GoUDEVArrears'\n",
    "]\n",
    "\n",
    "# Clean each column\n",
    "for field in budget_fields:\n",
    "    df[field] = (\n",
    "        df[field]\n",
    "        .astype(str)                \n",
    "        .str.strip()                  \n",
    "        .replace('-', '0')            \n",
    "        .str.replace(',', '', regex=False)  \n",
    "        .astype(float)                \n",
    "    )\n",
    "\n",
    "# Confirm the result\n",
    "print(df[budget_fields].describe())\n"
   ]
  },
  {
   "cell_type": "code",
   "execution_count": 15,
   "id": "d5852080",
   "metadata": {},
   "outputs": [
    {
     "name": "stdout",
     "output_type": "stream",
     "text": [
      "                                            Vote_Name          Wage  \\\n",
      "0                                 Treasury Operations  0.000000e+00   \n",
      "2                                Ministry of Defence   1.266854e+12   \n",
      "4                                Local Governments 12  2.752840e+12   \n",
      "17                    Ministry of Works and Transport  1.717908e+10   \n",
      "65             Uganda National Roads Authority (UNRA)  6.855261e+10   \n",
      "1   Ministry of Finance, Planning and Economic Dev...  8.310350e+09   \n",
      "29         Ministry of Energy and Mineral Development  1.671118e+10   \n",
      "20                                 Ministry of Health  2.234571e+10   \n",
      "54                  Ministry of Water and Environment  2.531317e+10   \n",
      "5                                Local Governments 17  4.574692e+11   \n",
      "\n",
      "         NonWage        GoUDev        ExtFin  AIADev  Total_Allocation  \n",
      "0   2.072669e+13  0.000000e+00  0.000000e+00     0.0      2.072669e+13  \n",
      "2   1.184179e+12  1.642927e+12  2.625416e+11     0.0      4.356502e+12  \n",
      "4   6.632536e+11  3.987706e+11  0.000000e+00     0.0      3.814864e+12  \n",
      "17  1.369572e+11  1.974224e+11  2.543047e+12     0.0      2.894606e+12  \n",
      "65  1.599273e+10  3.640271e+11  2.079479e+12     0.0      2.528051e+12  \n",
      "1   1.688622e+12  1.724033e+11  4.288253e+11     0.0      2.298161e+12  \n",
      "29  8.809729e+10  5.797938e+10  1.604284e+12     0.0      1.767072e+12  \n",
      "20  1.284775e+11  6.587622e+10  1.312350e+12     0.0      1.529049e+12  \n",
      "54  2.320618e+10  1.710091e+11  1.206192e+12     0.0      1.425721e+12  \n",
      "5   6.437693e+11  1.239301e+11  0.000000e+00     0.0      1.225169e+12  \n"
     ]
    }
   ],
   "source": [
    "# Group by Vote_Name and sum the key budget categories\n",
    "sector_summary = df.groupby(\"Vote_Name\")[\n",
    "    ['Wage', 'NonWage', 'GoUDev', 'ExtFin', 'AIADev']\n",
    "].sum().sort_values(by='NonWage', ascending=False)\n",
    "\n",
    "# Add a Total column for total allocation per sector\n",
    "sector_summary[\"Total_Allocation\"] = sector_summary.sum(axis=1)\n",
    "\n",
    "# Reset index for plotting\n",
    "sector_summary = sector_summary.reset_index()\n",
    "\n",
    "# Display top 10 sectors by total allocation\n",
    "print(sector_summary.sort_values(\"Total_Allocation\", ascending=False).head(10))\n"
   ]
  },
  {
   "cell_type": "code",
   "execution_count": 16,
   "id": "993f3055",
   "metadata": {},
   "outputs": [
    {
     "name": "stderr",
     "output_type": "stream",
     "text": [
      "C:\\Users\\enkurunziza\\AppData\\Local\\Temp\\ipykernel_61508\\3463067003.py:9: FutureWarning: \n",
      "\n",
      "Passing `palette` without assigning `hue` is deprecated and will be removed in v0.14.0. Assign the `y` variable to `hue` and set `legend=False` for the same effect.\n",
      "\n",
      "  sns.barplot(\n"
     ]
    },
    {
     "data": {
      "image/png": "[encoded data removed]",
      "text/plain": [
       "<Figure size 1200x600 with 1 Axes>"
      ]
     },
     "metadata": {},
     "output_type": "display_data"
    }
   ],
   "source": [
    "import matplotlib.pyplot as plt\n",
    "import seaborn as sns\n",
    "\n",
    "# Sort and select top 10\n",
    "top10 = sector_summary.sort_values(\"Total_Allocation\", ascending=False).head(10)\n",
    "\n",
    "# Plot\n",
    "plt.figure(figsize=(12, 6))\n",
    "sns.barplot(\n",
    "    data=top10,\n",
    "    x=\"Total_Allocation\",\n",
    "    y=\"Vote_Name\",\n",
    "    palette=\"viridis\"\n",
    ")\n",
    "plt.title(\"Top 10 Sectors by Total Budget Allocation (UGX)\")\n",
    "plt.xlabel(\"Total Allocation\")\n",
    "plt.ylabel(\"Sector\")\n",
    "plt.tight_layout()\n",
    "plt.show()\n"
   ]
  },
  {
   "cell_type": "code",
   "execution_count": 17,
   "id": "69106b96",
   "metadata": {},
   "outputs": [
    {
     "name": "stdout",
     "output_type": "stream",
     "text": [
      "                                            Vote_Name          Wage  \\\n",
      "0                                 Treasury Operations  0.000000e+00   \n",
      "2                                Ministry of Defence   1.266854e+12   \n",
      "4                                Local Governments 12  2.752840e+12   \n",
      "17                    Ministry of Works and Transport  1.717908e+10   \n",
      "65             Uganda National Roads Authority (UNRA)  6.855261e+10   \n",
      "1   Ministry of Finance, Planning and Economic Dev...  8.310350e+09   \n",
      "29         Ministry of Energy and Mineral Development  1.671118e+10   \n",
      "20                                 Ministry of Health  2.234571e+10   \n",
      "54                  Ministry of Water and Environment  2.531317e+10   \n",
      "5                                Local Governments 17  4.574692e+11   \n",
      "\n",
      "         NonWage        GoUDev        ExtFin  AIADev  Total_Allocation  \\\n",
      "0   2.072669e+13  0.000000e+00  0.000000e+00     0.0      2.072669e+13   \n",
      "2   1.184179e+12  1.642927e+12  2.625416e+11     0.0      4.356502e+12   \n",
      "4   6.632536e+11  3.987706e+11  0.000000e+00     0.0      3.814864e+12   \n",
      "17  1.369572e+11  1.974224e+11  2.543047e+12     0.0      2.894606e+12   \n",
      "65  1.599273e+10  3.640271e+11  2.079479e+12     0.0      2.528051e+12   \n",
      "1   1.688622e+12  1.724033e+11  4.288253e+11     0.0      2.298161e+12   \n",
      "29  8.809729e+10  5.797938e+10  1.604284e+12     0.0      1.767072e+12   \n",
      "20  1.284775e+11  6.587622e+10  1.312350e+12     0.0      1.529049e+12   \n",
      "54  2.320618e+10  1.710091e+11  1.206192e+12     0.0      1.425721e+12   \n",
      "5   6.437693e+11  1.239301e+11  0.000000e+00     0.0      1.225169e+12   \n",
      "\n",
      "    Share_of_Budget (%)  \n",
      "0             36.400732  \n",
      "2              7.650998  \n",
      "4              6.699761  \n",
      "17             5.083579  \n",
      "65             4.439827  \n",
      "1              4.036089  \n",
      "29             3.103376  \n",
      "20             2.685355  \n",
      "54             2.503887  \n",
      "5              2.151672  \n"
     ]
    }
   ],
   "source": [
    "# 1. Total national budget (sum of total allocations)\n",
    "total_budget = sector_summary[\"Total_Allocation\"].sum()\n",
    "\n",
    "# 2. Add percentage share per sector\n",
    "sector_summary[\"Share_of_Budget (%)\"] = (sector_summary[\"Total_Allocation\"] / total_budget) * 100\n",
    "\n",
    "# Sort by share and display top 10\n",
    "print(sector_summary.sort_values(\"Share_of_Budget (%)\", ascending=False).head(10))\n"
   ]
  },
  {
   "cell_type": "code",
   "execution_count": 18,
   "id": "8558a4c6",
   "metadata": {},
   "outputs": [
    {
     "data": {
      "image/png": "[encoded data removed]",
      "text/plain": [
       "<Figure size 1000x600 with 1 Axes>"
      ]
     },
     "metadata": {},
     "output_type": "display_data"
    }
   ],
   "source": [
    "# Normalize for comparison\n",
    "composition = sector_summary[['Vote_Name', 'Wage', 'NonWage', 'GoUDev', 'ExtFin', 'AIADev']].copy()\n",
    "composition.set_index(\"Vote_Name\", inplace=True)\n",
    "\n",
    "# Calculate relative composition per sector\n",
    "composition_ratio = composition.div(composition.sum(axis=1), axis=0)\n",
    "\n",
    "# Plot stacked bar chart for top 5 sectors\n",
    "top5_sectors = composition_ratio.sort_values(\"NonWage\", ascending=False).head(5)\n",
    "\n",
    "# Plot\n",
    "top5_sectors.plot(kind='barh', stacked=True, figsize=(10, 6), colormap='Set3')\n",
    "plt.title(\"Spending Composition (Wage vs Non-Wage vs Dev) – Top 5 Sectors\")\n",
    "plt.xlabel(\"Share of Sector Budget\")\n",
    "plt.tight_layout()\n",
    "plt.show()\n"
   ]
  },
  {
   "cell_type": "code",
   "execution_count": 20,
   "id": "9ec32892",
   "metadata": {},
   "outputs": [],
   "source": [
    "df.to_csv(\"cleaned_budget.csv\", index=False)"
   ]
  },
  {
   "cell_type": "code",
   "execution_count": 3,
   "id": "491fe06f",
   "metadata": {},
   "outputs": [
    {
     "data": {
      "text/html": [
       "\n",
       "        <iframe\n",
       "            width=\"100%\"\n",
       "            height=\"650\"\n",
       "            src=\"http://127.0.0.1:8071/\"\n",
       "            frameborder=\"0\"\n",
       "            allowfullscreen\n",
       "            \n",
       "        ></iframe>\n",
       "        "
      ],
      "text/plain": [
       "<IPython.lib.display.IFrame at 0x20ebe8ff970>"
      ]
     },
     "metadata": {},
     "output_type": "display_data"
    }
   ],
   "source": [
    "import dash\n",
    "from dash import dcc, html, Input, Output\n",
    "import pandas as pd\n",
    "import plotly.express as px\n",
    "\n",
    "# --- Load and prepare your cleaned data ---\n",
    "df = pd.read_csv(\"cleaned_budget.csv\") \n",
    "\n",
    "# Grouped data\n",
    "sector_summary = df.groupby(\"Vote_Name\")[['Wage', 'NonWage', 'GoUDev', 'ExtFin', 'AIADev']].sum()\n",
    "sector_summary[\"Total_Allocation\"] = sector_summary.sum(axis=1)\n",
    "sector_summary[\"Share_of_Budget (%)\"] = (sector_summary[\"Total_Allocation\"] / sector_summary[\"Total_Allocation\"].sum()) * 100\n",
    "sector_summary = sector_summary.reset_index()\n",
    "\n",
    "# Initialize Dash app\n",
    "app = dash.Dash(__name__)\n",
    "app.title = \"Uganda Budget 2025/26 - Sector Allocation Dashboard\"\n",
    "\n",
    "# Layout\n",
    "app.layout = html.Div([\n",
    "    html.H1(\"Sector Allocation Analysis – Uganda 2025/2026 Budget\", style={'textAlign': 'center'}),\n",
    "    \n",
    "    html.Div([\n",
    "        html.Label(\"Select a Sector (Vote Name):\"),\n",
    "        dcc.Dropdown(\n",
    "            id='sector-dropdown',\n",
    "            options=[{'label': name, 'value': name} for name in sector_summary['Vote_Name']],\n",
    "            value=sector_summary['Vote_Name'][0]\n",
    "        ),\n",
    "    ], style={'width': '40%', 'margin': 'auto'}),\n",
    "\n",
    "    html.Br(),\n",
    "\n",
    "    html.Div(id='kpi-output', style={'textAlign': 'center', 'fontSize': 18}),\n",
    "\n",
    "    dcc.Graph(id='sector-bar-chart'),\n",
    "\n",
    "    dcc.Graph(id='spending-composition')\n",
    "])\n",
    "\n",
    "# Callbacks\n",
    "@app.callback(\n",
    "    Output('kpi-output', 'children'),\n",
    "    Output('sector-bar-chart', 'figure'),\n",
    "    Output('spending-composition', 'figure'),\n",
    "    Input('sector-dropdown', 'value')\n",
    ")\n",
    "def update_dashboard(selected_sector):\n",
    "    selected_row = sector_summary[sector_summary['Vote_Name'] == selected_sector].iloc[0]\n",
    "    \n",
    "    # KPIs\n",
    "    kpi_text = f\"\"\"\n",
    "        Total Allocation for {selected_sector}: UGX {selected_row['Total_Allocation']:,.0f} |\n",
    "        Share of Budget: {selected_row['Share_of_Budget (%)']:.2f}%\n",
    "    \"\"\"\n",
    "\n",
    "    # Bar chart (top 10 sectors by total allocation)\n",
    "    bar_fig = px.bar(\n",
    "        sector_summary.sort_values(\"Total_Allocation\", ascending=False).head(10),\n",
    "        x=\"Total_Allocation\", y=\"Vote_Name\",\n",
    "        orientation=\"h\",\n",
    "        title=\"Top 10 Sectors by Total Allocation\",\n",
    "        labels={\"Total_Allocation\": \"UGX\", \"Vote_Name\": \"Sector\"},\n",
    "        color=\"Total_Allocation\"\n",
    "    )\n",
    "    bar_fig.update_layout(yaxis={'categoryorder':'total ascending'})\n",
    "\n",
    "    # Spending mix chart\n",
    "    spending_data = sector_summary[sector_summary['Vote_Name'] == selected_sector][['Wage', 'NonWage', 'GoUDev', 'ExtFin', 'AIADev']].T.reset_index()\n",
    "    spending_data.columns = ['Category', 'Amount']\n",
    "    comp_fig = px.pie(\n",
    "        spending_data, names='Category', values='Amount',\n",
    "        title=f\"Spending Composition for {selected_sector}\"\n",
    "    )\n",
    "\n",
    "    return kpi_text, bar_fig, comp_fig\n",
    "\n",
    "# Run app\n",
    "if __name__ == '__main__':\n",
    "    app.run(debug=True, port= 8071)\n"
   ]
  },
  {
   "cell_type": "code",
   "execution_count": 5,
   "id": "a4556d50",
   "metadata": {},
   "outputs": [],
   "source": [
    "# Convert monetary columns to numeric (remove commas, handle dashes or blanks)\n",
    "monetary_cols = ['Wage', 'NonWage', 'AIARec', 'GoUDev', 'ExtFin', 'AIADev',\n",
    "                 'WageArrears', 'NWagaArrears', 'GoUDEVArrears']\n",
    "\n",
    "for col in monetary_cols:\n",
    "    # Convert to string first, then clean, then back to float\n",
    "    df[col] = df[col].astype(str).str.replace('-', '0').str.replace(',', '').astype(float)\n",
    "\n",
    "\n",
    "# Create a total allocation column\n",
    "df['Total_Allocation'] = df[monetary_cols].sum(axis=1)\n"
   ]
  },
  {
   "cell_type": "markdown",
   "id": "03429306",
   "metadata": {},
   "source": [
    "##### Funding Patterns"
   ]
  },
  {
   "cell_type": "code",
   "execution_count": null,
   "id": "8a355e18",
   "metadata": {},
   "outputs": [
    {
     "name": "stdout",
     "output_type": "stream",
     "text": [
      "Programme_Name\n",
      "Development Plan Implementation                     2.212987e+13\n",
      "Human Capital Development                           9.974895e+12\n",
      "Governance And Security                             7.537854e+12\n",
      "Integrated Transport Infrastructure And Services    6.354023e+12\n",
      "Private Sector Development                          1.890710e+12\n",
      "Regional Balanced Development                       1.722361e+12\n",
      "Agro-Industrialization                              1.689352e+12\n",
      "Sustainable Energy Development                      1.301622e+12\n",
      "Sustainable Urbanisation And Housing                1.176341e+12\n",
      "Legislation, Oversight And Representation           8.334951e+11\n",
      "Name: Total_Allocation, dtype: float64\n"
     ]
    }
   ],
   "source": [
    "# Allocation by Programme\n",
    "top_programmes = df.groupby(\"Programme_Name\")[\"Total_Allocation\"].sum().sort_values(ascending=False)\n",
    "print(top_programmes.head(10))"
   ]
  },
  {
   "cell_type": "code",
   "execution_count": null,
   "id": "303870f4",
   "metadata": {},
   "outputs": [
    {
     "name": "stdout",
     "output_type": "stream",
     "text": [
      "Department_Name\n",
      "Administration                             2.212481e+13\n",
      "Education                                  2.356086e+12\n",
      "UPDF Land forces                           2.124338e+12\n",
      "Financial Services                         1.307218e+12\n",
      "Finance and Administration                 1.189534e+12\n",
      "Health                                     1.038143e+12\n",
      "Central Administration                     6.191116e+11\n",
      "Pharmaceuticals & Other Health Supplies    5.372965e+11\n",
      "Members of Parliament                      5.117152e+11\n",
      "Road Fund Secretariat                      3.997446e+11\n",
      "Name: Total_Allocation, dtype: float64\n"
     ]
    }
   ],
   "source": [
    "#Allocation by Department\n",
    "top_departments = df.groupby(\"Department_Name\")[\"Total_Allocation\"].sum().sort_values(ascending=False)\n",
    "print(top_departments.head(10))"
   ]
  },
  {
   "cell_type": "code",
   "execution_count": 8,
   "id": "96a062ad",
   "metadata": {},
   "outputs": [
    {
     "data": {
      "image/png": "[encoded data removed]",
      "text/plain": [
       "<Figure size 640x480 with 1 Axes>"
      ]
     },
     "metadata": {},
     "output_type": "display_data"
    }
   ],
   "source": [
    "import seaborn as sns\n",
    "import matplotlib.pyplot as plt\n",
    "\n",
    "top_programmes.head(10).plot(kind='barh')\n",
    "plt.title(\"Top 10 Funded Programmes\")\n",
    "plt.xlabel(\"Total Allocation (UGX)\")\n",
    "plt.gca().invert_yaxis()\n",
    "plt.tight_layout()\n",
    "plt.show()"
   ]
  },
  {
   "cell_type": "code",
   "execution_count": null,
   "id": "aa633ffc",
   "metadata": {},
   "outputs": [
    {
     "name": "stdout",
     "output_type": "stream",
     "text": [
      "Description\n",
      "Interest on Treasury Bonds            7.479435e+12\n",
      "Securities Redemption Budgeting       6.611577e+12\n",
      "Transfer to Other Government Units    3.715733e+12\n",
      "General Staff Salaries                3.459336e+12\n",
      "External Debt Budgeting               3.396513e+12\n",
      "Sector Conditional Grant (Wage)       2.894346e+12\n",
      "Roads and Bridges - Acquisition       2.373786e+12\n",
      "Railways and subways - Improvement    2.314720e+12\n",
      "Classified Expenditure                2.042521e+12\n",
      "Loan interest                         1.265437e+12\n",
      "Name: Total_Allocation, dtype: float64\n"
     ]
    }
   ],
   "source": [
    "# Allocation by budget lines\n",
    "top_items = df.groupby(\"Description\")[\"Total_Allocation\"].sum().sort_values(ascending=False).head(10)\n",
    "print(top_items)\n"
   ]
  },
  {
   "cell_type": "markdown",
   "id": "02582f7f",
   "metadata": {},
   "source": [
    "##### Fairness Analysis"
   ]
  },
  {
   "cell_type": "code",
   "execution_count": 13,
   "id": "ae75695a",
   "metadata": {},
   "outputs": [
    {
     "name": "stdout",
     "output_type": "stream",
     "text": [
      "Department_Name\n",
      "Administration                55.032812\n",
      "Education                      5.860480\n",
      "UPDF Land forces               5.284036\n",
      "Financial Services             3.251548\n",
      "Finance and Administration     2.958822\n",
      "Name: Total_Allocation, dtype: float64\n"
     ]
    }
   ],
   "source": [
    "dept_share = df.groupby(\"Department_Name\")[\"Total_Allocation\"].sum()\n",
    "dept_share_pct = dept_share / dept_share.sum() * 100\n",
    "print(dept_share_pct.sort_values(ascending=False).head())"
   ]
  },
  {
   "cell_type": "markdown",
   "id": "b703e5af",
   "metadata": {},
   "source": [
    "#### Narrative\n",
    "Some sectors such as Education, Health, and Agriculture continue to receive significantly lower allocations compared to Infrastructure and Security, despite their direct impact on human capital and poverty alleviation. For instance, while infrastructure projects dominate with large capital investments, education and health often rely heavily on donor support, revealing an imbalance in prioritization."
   ]
  },
  {
   "cell_type": "markdown",
   "id": "ef2ba9ba",
   "metadata": {},
   "source": [
    "#### Call to Action\n",
    "Adopt equity-focused frameworks that ensure allocations are guided by need and impact. \n",
    "\n",
    "Reallocate portions of the budget to strengthen sectors that build long-term resilience: education, healthcare, and agriculture. These investments have high social returns and directly influence productivity and welfare."
   ]
  },
  {
   "cell_type": "markdown",
   "id": "57e94734",
   "metadata": {},
   "source": [
    "#### Key Perfomance INDICATORS\n",
    "##### 1. Sector Budget Share (%) AS indicated on the Dashboard at the end of this script\n",
    "Percentage of the total national budget allocated to a specific sector.It helps policymakers assess whether priority sectors are being adequately funded relative to their importance in national development goals\n",
    "\n",
    "##### 2. Per Capita Allocation\n",
    "This metric adjusts for population differences and enables fairness analysis, helping to identify underserved regions or populations, particularly in health, education, and social development."
   ]
  },
  {
   "cell_type": "markdown",
   "id": "9be144da",
   "metadata": {},
   "source": [
    "### Interactive Dashboard"
   ]
  },
  {
   "cell_type": "code",
   "execution_count": null,
   "id": "ba6f94f8",
   "metadata": {},
   "outputs": [
    {
     "data": {
      "text/html": [
       "\n",
       "        <iframe\n",
       "            width=\"100%\"\n",
       "            height=\"650\"\n",
       "            src=\"http://127.0.0.1:8093/\"\n",
       "            frameborder=\"0\"\n",
       "            allowfullscreen\n",
       "            \n",
       "        ></iframe>\n",
       "        "
      ],
      "text/plain": [
       "<IPython.lib.display.IFrame at 0x20ebc9aff10>"
      ]
     },
     "metadata": {},
     "output_type": "display_data"
    }
   ],
   "source": [
    "import dash\n",
    "from dash import dcc, html, Input, Output\n",
    "import pandas as pd\n",
    "import plotly.express as px\n",
    "\n",
    "# Loading cleaned data\n",
    "df = pd.read_csv(\"cleaned_budget.csv\") \n",
    "df.columns = df.columns.str.strip()\n",
    "\n",
    "# Starting Dash app\n",
    "app = dash.Dash(__name__)\n",
    "app.title = \"Uganda Budget Dashboard\"\n",
    "\n",
    "# Layout\n",
    "app.layout = html.Div([\n",
    "    html.H2(\"Uganda Budget 2025/26 – Sector Allocation Dashboard\", style={\"textAlign\": \"center\"}),\n",
    "\n",
    "    html.Div([\n",
    "        html.Div([\n",
    "            html.Label(\"🌟 Select Sector (Vote):\"),\n",
    "            dcc.Dropdown(\n",
    "                id='sector-dropdown',\n",
    "                options=[{\"label\": v, \"value\": v} for v in df[\"Vote_Name\"].unique()],\n",
    "                value=df[\"Vote_Name\"].unique()[0],\n",
    "                style={\"marginBottom\": \"1em\"}\n",
    "            ),\n",
    "\n",
    "            html.Label(\"📚 Select Programme (optional):\"),\n",
    "            dcc.Dropdown(\n",
    "                id='programme-dropdown',\n",
    "                options=[],\n",
    "                placeholder=\"All Programmes\",\n",
    "                style={\"marginBottom\": \"2em\"}\n",
    "            ),\n",
    "\n",
    "            html.A(\"⬇️ Download Data\", id=\"download-link\", download=\"sector_summary.csv\", href=\"\", target=\"_blank\",\n",
    "                   style={\"display\": \"block\", \"textAlign\": \"center\", \"fontWeight\": \"bold\"}),\n",
    "\n",
    "        ], style={\"width\": \"30%\", \"padding\": \"1em\", \"backgroundColor\": \"#f9f9f9\", \"borderRight\": \"1px solid #ddd\"}),\n",
    "\n",
    "        html.Div([\n",
    "            html.Div(id=\"kpi-output\", style={\"fontSize\": 18, \"marginBottom\": \"1em\", \"textAlign\": \"center\"}),\n",
    "\n",
    "            dcc.Graph(id='bar-chart'),\n",
    "            dcc.Graph(id='spending-pie'),\n",
    "            dcc.Graph(id='bottom-bar')\n",
    "        ], style={\"width\": \"70%\", \"padding\": \"1em\"})\n",
    "\n",
    "    ], style={\"display\": \"flex\", \"flexDirection\": \"row\", \"height\": \"100vh\"})\n",
    "])\n",
    "\n",
    "# Update programme dropdown based on selected sector\n",
    "@app.callback(\n",
    "    Output('programme-dropdown', 'options'),\n",
    "    Input('sector-dropdown', 'value')\n",
    ")\n",
    "def update_programmes(sector):\n",
    "    progs = df[df[\"Vote_Name\"] == sector][\"Programme_Name\"].dropna().unique()\n",
    "    return [{\"label\": p, \"value\": p} for p in progs]\n",
    "\n",
    "# Main dashboard update\n",
    "@app.callback(\n",
    "    Output(\"kpi-output\", \"children\"),\n",
    "    Output(\"bar-chart\", \"figure\"),\n",
    "    Output(\"spending-pie\", \"figure\"),\n",
    "    Output(\"bottom-bar\", \"figure\"),\n",
    "    Output(\"download-link\", \"href\"),\n",
    "    Input(\"sector-dropdown\", \"value\"),\n",
    "    Input(\"programme-dropdown\", \"value\")\n",
    ")\n",
    "def update_dashboard(sector, programme):\n",
    "    filtered = df[df[\"Vote_Name\"] == sector]\n",
    "\n",
    "    # If programme is selected\n",
    "    if programme:\n",
    "        filtered = filtered[filtered[\"Programme_Name\"] == programme]\n",
    "\n",
    "    # Summary of selected data\n",
    "    summary = filtered[['Wage', 'NonWage', 'GoUDev', 'ExtFin', 'AIADev']].sum()\n",
    "    total = summary.sum()\n",
    "    national_total = df[['Wage', 'NonWage', 'GoUDev', 'ExtFin', 'AIADev']].sum().sum()\n",
    "    share = (total / national_total) * 100\n",
    "\n",
    "    title = f\"{programme} – {sector}\" if programme else sector\n",
    "    kpi_text = f\"💰 Total Allocation: UGX {total:,.0f} | 📊 Share of Budget: {share:.2f}%\"\n",
    "\n",
    "    # Bar chart of top programmes in the sector\n",
    "    bar_data = df[df[\"Vote_Name\"] == sector].groupby(\"Programme_Name\")[['Wage', 'NonWage', 'GoUDev', 'ExtFin', 'AIADev']].sum()\n",
    "    bar_data[\"Total\"] = bar_data.sum(axis=1)\n",
    "    bar_data = bar_data.sort_values(\"Total\", ascending=False).reset_index()\n",
    "\n",
    "    bar_fig = px.bar(\n",
    "        bar_data.head(10),\n",
    "        x=\"Total\", y=\"Programme_Name\", orientation=\"h\",\n",
    "        title=f\"Top Programmes in {sector} by Allocation\",\n",
    "        labels={\"Total\": \"UGX\"},\n",
    "        color=\"Total\"\n",
    "    )\n",
    "    bar_fig.update_layout(yaxis={'categoryorder': 'total ascending'})\n",
    "\n",
    "    # Pie chart for spending mix\n",
    "    spend = summary.reset_index()\n",
    "    spend.columns = ['Component', 'Amount']\n",
    "    pie_fig = px.pie(spend, names='Component', values='Amount', title=f\"Spending Composition – {title}\")\n",
    "\n",
    "    # Bottom 10 sectors chart (if programme is not selected)\n",
    "    if not programme:\n",
    "        bottom_data = df.groupby(\"Vote_Name\")[['Wage', 'NonWage', 'GoUDev', 'ExtFin', 'AIADev']].sum()\n",
    "        bottom_data[\"Total\"] = bottom_data.sum(axis=1)\n",
    "        bottom_data = bottom_data.sort_values(\"Total\", ascending=True).reset_index()\n",
    "\n",
    "        bottom_fig = px.bar(\n",
    "            bottom_data.head(10),\n",
    "            x=\"Total\", y=\"Vote_Name\", orientation=\"h\",\n",
    "            title=\"Bottom 10 Sectors by Total Allocation\",\n",
    "            labels={\"Total\": \"UGX\", \"Vote_Name\": \"Sector\"},\n",
    "            color=\"Total\"\n",
    "        )\n",
    "        bottom_fig.update_layout(yaxis={'categoryorder': 'total ascending'})\n",
    "    else:\n",
    "        bottom_fig = {}\n",
    "\n",
    "    # CSV download link\n",
    "    csv_data = bar_data.to_csv(index=False)\n",
    "    href = \"data:text/csv;charset=utf-8,\" + csv_data\n",
    "\n",
    "    return kpi_text, bar_fig, pie_fig, bottom_fig, href\n",
    "\n",
    "# Run the server\n",
    "if __name__ == '__main__':\n",
    "    app.run(debug=True, port=8093)\n"
   ]
  }
 ],
 "metadata": {
  "kernelspec": {
   "display_name": "Python 3",
   "language": "python",
   "name": "python3"
  },
  "language_info": {
   "codemirror_mode": {
    "name": "ipython",
    "version": 3
   },
   "file_extension": ".py",
   "mimetype": "text/x-python",
   "name": "python",
   "nbconvert_exporter": "python",
   "pygments_lexer": "ipython3",
   "version": "3.10.5"
  }
 },
 "nbformat": 4,
 "nbformat_minor": 5
}
